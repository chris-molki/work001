{
 "cells": [
  {
   "cell_type": "code",
   "execution_count": 1,
   "id": "0d0285f0-c8e0-4a24-bcab-258c60d425ef",
   "metadata": {},
   "outputs": [],
   "source": [
    "import gpetas\n",
    "import numpy as np\n",
    "import datetime\n",
    "time_format = \"%Y-%m-%d %H:%M:%S.%f\"\n",
    "\n",
    "import matplotlib\n",
    "import matplotlib.pyplot as plt\n",
    "import os\n",
    "\n",
    "import scipy as sc\n",
    "\n",
    "# auto reload using developer version\n",
    "%load_ext autoreload\n",
    "%autoreload 2"
   ]
  },
  {
   "cell_type": "code",
   "execution_count": 2,
   "id": "9816dd7c-b01b-40c4-9eb6-b05382a47170",
   "metadata": {},
   "outputs": [
    {
     "data": {
      "text/plain": [
       "'/Volumes/data_SFB1294/Z001a_gpetas/48_figures_paper/figures_paper'"
      ]
     },
     "execution_count": 2,
     "metadata": {},
     "output_type": "execute_result"
    }
   ],
   "source": [
    "pwd"
   ]
  },
  {
   "cell_type": "markdown",
   "id": "20a5211d-efa3-4ba4-9b82-58102dfced20",
   "metadata": {},
   "source": [
    "# Load inferrence results"
   ]
  },
  {
   "cell_type": "code",
   "execution_count": null,
   "id": "5811ec75-7926-4e25-ab64-06646666d5cf",
   "metadata": {},
   "outputs": [],
   "source": [
    "# data\n",
    "fname='data/CA_results_inference_golm/merged/CA_experiments_HE07/R002c/output/inference_results/GS_save_data_R002c.bin'\n",
    "save_obj_GS = np.load(fname,allow_pickle=True) \n",
    "\n",
    "fname_data_obj ='data/CA_results_inference_golm/merged/CA_experiments_HE07/R002c/output/inference_results/data_obj_R002c.all'\n",
    "data_obj = np.load(fname_data_obj,allow_pickle=True)\n",
    "case_name = data_obj.case_name"
   ]
  },
  {
   "cell_type": "markdown",
   "id": "19ebf6b1-0839-49bf-890b-4c467a19e37b",
   "metadata": {},
   "source": [
    "# Plotting and save figures"
   ]
  },
  {
   "cell_type": "code",
   "execution_count": null,
   "id": "96ef7ffd-a3e9-4d56-b9af-77f1246797b4",
   "metadata": {},
   "outputs": [],
   "source": [
    "dir_name = 'figures_paper'\n",
    "\n",
    "# Check if the directory doesn't exist, then create it\n",
    "if not os.path.exists(dir_name):\n",
    "    os.mkdir(dir_name)\n",
    "    print(f\"Directory '{dir_name}' created successfully.\")\n",
    "else:\n",
    "    print(f\"Directory '{dir_name}' already exists.\")\n",
    "\n",
    "\n",
    "# directory\n",
    "out_dir = './figures/'\n",
    "out_dir = './' + dir_name + '/'\n",
    "\n",
    "# write to file\n",
    "hf=plot_figure004(forecast_5yrs_495_after,region)\n",
    "hf.savefig(out_dir + '/%s_F004a_site.pdf' % data_obj.case_name, bbox_inches='tight')\n"
   ]
  }
 ],
 "metadata": {
  "kernelspec": {
   "display_name": "Python 3 (ipykernel)",
   "language": "python",
   "name": "python3"
  },
  "language_info": {
   "codemirror_mode": {
    "name": "ipython",
    "version": 3
   },
   "file_extension": ".py",
   "mimetype": "text/x-python",
   "name": "python",
   "nbconvert_exporter": "python",
   "pygments_lexer": "ipython3",
   "version": "3.9.16"
  }
 },
 "nbformat": 4,
 "nbformat_minor": 5
}
